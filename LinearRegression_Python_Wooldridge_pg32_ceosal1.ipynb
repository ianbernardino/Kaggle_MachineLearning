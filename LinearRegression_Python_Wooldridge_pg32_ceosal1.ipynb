{
 "cells": [
  {
   "cell_type": "code",
   "execution_count": 41,
   "metadata": {},
   "outputs": [
    {
     "data": {
      "text/plain": [
       "LinearRegression(copy_X=True, fit_intercept=True, n_jobs=None,\n",
       "         normalize=False)"
      ]
     },
     "execution_count": 41,
     "metadata": {},
     "output_type": "execute_result"
    }
   ],
   "source": [
    "import pandas as pd\n",
    "import numpy as np\n",
    "from sklearn.linear_model import LinearRegression\n",
    "from sklearn.pipeline import Pipeline\n",
    "\n",
    "# Fle path:\n",
    "ceosal_path = \"C:/Users/Willians/Desktop/ceosal1.txt\"\n",
    "\n",
    "# Assign data:\n",
    "data_ceo = pd.read_csv(ceosal_path)\n",
    "\n",
    "# Explore data:\n",
    "data_ceo.head()\n",
    "data_ceo.describe()\n",
    "\n",
    "# Assign features to X\n",
    "X = data_ceo.roe\n",
    "    #Well, it actually looks like the warning is telling you what to do.\n",
    "    #As part of sklearn.pipeline stages' uniform interfaces, as a rule of thumb:\n",
    "    #when you see X, it should be an np.array with two dimensions\n",
    "    #when you see y, it should be an np.array with a single dimension.\n",
    "X = np.array(X).reshape((len(X), 1))\n",
    "\n",
    "# Assign values to y\n",
    "y = data_ceo.salary\n",
    "\n",
    "# Create Model\n",
    "model = LinearRegression()\n",
    "\n",
    "# Fit the model\n",
    "model.fit(X, y)"
   ]
  },
  {
   "cell_type": "markdown",
   "metadata": {},
   "source": [
    "With .fit(), you calculate the optimal values of the weights 𝑏₀ and 𝑏₁, using the existing input and output (x and y) as the arguments. In other words, .fit() fits the model. It returns self, which is the variable model itself. That’s why you can replace the last two statements with this one:\n",
    "\n",
    "model = LinearRegression().fit(x, y)\n",
    "\n",
    "\n",
    "This statement does the same thing as the previous two. It’s just shorter.\n",
    "\n",
    "When you’re applying .score(), the arguments are also the predictor x and regressor y, and the return value is 𝑅².\n",
    "\n",
    "The attributes of model are .intercept_, which represents the coefficient, 𝑏₀ and .coef_, which represents 𝑏₁:"
   ]
  },
  {
   "cell_type": "code",
   "execution_count": 42,
   "metadata": {},
   "outputs": [
    {
     "name": "stdout",
     "output_type": "stream",
     "text": [
      "Coefficient of Determination:  1.32\n",
      "Intercept:  963.191\n",
      "Slope:  [18.50118685]\n"
     ]
    }
   ],
   "source": [
    "r_sq = model.score(X, y)\n",
    "print('Coefficient of Determination: ', round(r_sq*100,2))\n",
    "\n",
    "print('Intercept: ', round(model.intercept_,3))\n",
    "\n",
    "print('Slope: ', model.coef_)"
   ]
  },
  {
   "cell_type": "code",
   "execution_count": 23,
   "metadata": {},
   "outputs": [],
   "source": [
    "# Predict\n",
    "\n",
    "Y_pred = model.predict(X)\n"
   ]
  },
  {
   "cell_type": "code",
   "execution_count": 33,
   "metadata": {},
   "outputs": [
    {
     "data": {
      "image/png": "[encoded data removed]",
      "text/plain": [
       "<Figure size 432x288 with 1 Axes>"
      ]
     },
     "metadata": {
      "needs_background": "light"
     },
     "output_type": "display_data"
    }
   ],
   "source": [
    "plt.scatter(X, y)\n",
    "plt.plot(X, Y_pred, color='red')\n",
    "plt.show()"
   ]
  },
  {
   "cell_type": "markdown",
   "metadata": {},
   "source": [
    "## Advanced Linear Regression With statsmodels\n",
    "\n",
    "You can implement linear regression in Python relatively easily by using the package statsmodels as well. Typically, this is desirable when there is a need for more detailed results.\n",
    "\n",
    "The procedure is similar to that of scikit-learn.\n",
    "\n",
    "### Step 1: Import packages\n",
    "\n",
    "First you need to do some imports. In addition to numpy, you need to import statsmodels.api:\n",
    "\n",
    "### import numpy as np\n",
    "### import statsmodels.api as sm\n",
    "\n",
    "## Step 2: Provide data and transform inputs\n",
    "\n",
    "You can provide the inputs and outputs the same way as you did when you were using scikit-learn:\n",
    "\n",
    "x = [[0, 1], [5, 1], [15, 2], [25, 5], [35, 11], [45, 15], [55, 34], [60, 35]]\n",
    "y = [4, 5, 20, 14, 32, 22, 38, 43]\n",
    "x, y = np.array(x), np.array(y)\n",
    "\n",
    "The input and output arrays are created, but the job is not done yet.\n",
    "\n",
    "You need to add the column of ones to the inputs if you want statsmodels to calculate the intercept 𝑏₀. It doesn’t takes 𝑏₀ into account by default. This is just one function call:\n",
    "\n",
    "### x = sm.add_constant(x)\n",
    "\n",
    "That’s how you add the column of ones to x with add_constant(). It takes the input array x as an argument and returns a new array with the column of ones inserted at the beginning. This is how x and y look now:\n",
    "\n",
    ">>> print(x)\n",
    "[[ 1.  0.  1.]\n",
    " [ 1.  5.  1.]\n",
    " [ 1. 15.  2.]\n",
    " [ 1. 25.  5.]\n",
    " [ 1. 35. 11.]\n",
    " [ 1. 45. 15.]\n",
    " [ 1. 55. 34.]\n",
    " [ 1. 60. 35.]]\n",
    ">>> print(y)\n",
    "[ 4  5 20 14 32 22 38 43]\n",
    "You can see that the modified x has three columns: the first column of ones (corresponding to 𝑏₀ and replacing the intercept) as well as two columns of the original features.\n",
    "\n",
    "## Create a model and fit it\n",
    "\n",
    "The regression model based on ordinary least squares is an instance of the class statsmodels.regression.linear_model.OLS. This is how you can obtain one:\n",
    "\n",
    "## model = sm.OLS(y, x)\n",
    "\n",
    "You should be careful here! Please, notice that the first argument is the output, followed with the input. There are several more optional parameters.\n",
    "\n",
    "To find more information about this class, please visit the official documentation page.\n",
    "\n",
    "Once your model is created, you can apply .fit() on it:\n",
    "\n",
    "results = model.fit()\n",
    "By calling .fit(), you obtain the variable results, which is an instance of the class statsmodels.regression.linear_model.RegressionResultsWrapper. This object holds a lot of information about the regression model.\n",
    "\n",
    "Step 4: Get results\n",
    "\n",
    "The variable results refers to the object that contains detailed information about the results of linear regression. Explaining them is far beyond the scope of this article, but you’ll learn here how to extract them.\n",
    "\n",
    "You can call .summary() to get the table with the results of linear regression:\n",
    "\n",
    ">>> print(results.summary())\n",
    "OLS Regression Results                            \n",
    "==============================================================================\n",
    "Dep. Variable:                      y   R-squared:                       0.862\n",
    "Model:                            OLS   Adj. R-squared:                  0.806\n",
    "Method:                 Least Squares   F-statistic:                     15.56\n",
    "Date:                Sun, 17 Feb 2019   Prob (F-statistic):            0.00713\n",
    "Time:                        19:15:07   Log-Likelihood:                -24.316\n",
    "No. Observations:                   8   AIC:                             54.63\n",
    "Df Residuals:                       5   BIC:                             54.87\n",
    "Df Model:                           2                                         \n",
    "Covariance Type:            nonrobust                                         \n",
    "==============================================================================\n",
    "coef    std err          t      P>|t|      [0.025      0.975]\n",
    "------------------------------------------------------------------------------\n",
    "const          5.5226      4.431      1.246      0.268      -5.867      16.912\n",
    "x1             0.4471      0.285      1.567      0.178      -0.286       1.180\n",
    "x2             0.2550      0.453      0.563      0.598      -0.910       1.420\n",
    "==============================================================================\n",
    "Omnibus:                        0.561   Durbin-Watson:                   3.268\n",
    "Prob(Omnibus):                  0.755   Jarque-Bera (JB):                0.534\n",
    "Skew:                           0.380   Prob(JB):                        0.766\n",
    "Kurtosis:                       1.987   Cond. No.                         80.1\n",
    "==============================================================================\n",
    "\n",
    "Warnings:\n",
    "[1] Standard Errors assume that the covariance matrix of the errors is correctly specified.\n",
    "This table is very comprehensive. You can find many statistical values associated with linear regression including 𝑅², 𝑏₀, 𝑏₁, and 𝑏₂.\n",
    "\n",
    "In this particular case, you might obtain the warning related to kurtosistest. This is due to the small number of observations provided.\n",
    "\n",
    "You can extract any of the values from the table above. Here’s an example:\n",
    "\n",
    ">>> print('coefficient of determination:', results.rsquared)\n",
    "coefficient of determination: 0.8615939258756777\n",
    ">>> print('adjusted coefficient of determination:', results.rsquared_adj)\n",
    "adjusted coefficient of determination: 0.8062314962259488\n",
    ">>> print('regression coefficients:', results.params)\n",
    "regression coefficients: [5.52257928 0.44706965 0.25502548]\n",
    "That’s how you obtain some of the results of linear regression:\n",
    "\n",
    ".rsquared holds 𝑅².\n",
    ".rsquared_adj represents adjusted 𝑅² (𝑅² corrected according to the number of input features).\n",
    ".params refers the array with 𝑏₀, 𝑏₁, and 𝑏₂ respectively.\n",
    "You can also notice that these results are identical to those obtained with scikit-learn for the same problem.\n",
    "\n",
    "To find more information about the results of linear regression, please visit the official documentation page.\n",
    "\n",
    "Step 5: Predict response\n",
    "\n",
    "You can obtain the predicted response on the input values used for creating the model using .fittedvalues or .predict() with the input array as the argument:\n",
    "\n",
    ">>> print('predicted response:', results.fittedvalues, sep='\\n')\n",
    "predicted response:\n",
    "[ 5.77760476  8.012953   12.73867497 17.9744479  23.97529728 29.4660957\n",
    " 38.78227633 41.27265006]\n",
    ">>> print('predicted response:', results.predict(x), sep='\\n')\n",
    "predicted response:\n",
    "[ 5.77760476  8.012953   12.73867497 17.9744479  23.97529728 29.4660957\n",
    " 38.78227633 41.27265006]"
   ]
  },
  {
   "cell_type": "code",
   "execution_count": 40,
   "metadata": {},
   "outputs": [
    {
     "name": "stdout",
     "output_type": "stream",
     "text": [
      "                            OLS Regression Results                            \n",
      "==============================================================================\n",
      "Dep. Variable:                      y   R-squared:                       0.422\n",
      "Model:                            OLS   Adj. R-squared:                  0.419\n",
      "Method:                 Least Squares   F-statistic:                     151.9\n",
      "Date:                Thu, 01 Aug 2019   Prob (F-statistic):           1.46e-26\n",
      "Time:                        20:37:23   Log-Likelihood:                -1814.4\n",
      "No. Observations:                 209   AIC:                             3631.\n",
      "Df Residuals:                     208   BIC:                             3634.\n",
      "Df Model:                           1                                         \n",
      "Covariance Type:            nonrobust                                         \n",
      "==============================================================================\n",
      "                 coef    std err          t      P>|t|      [0.025      0.975]\n",
      "------------------------------------------------------------------------------\n",
      "x1            63.5380      5.156     12.324      0.000      53.374      73.702\n",
      "==============================================================================\n",
      "Omnibus:                      283.910   Durbin-Watson:                   2.102\n",
      "Prob(Omnibus):                  0.000   Jarque-Bera (JB):            21020.750\n",
      "Skew:                           5.958   Prob(JB):                         0.00\n",
      "Kurtosis:                      50.664   Cond. No.                         1.00\n",
      "==============================================================================\n",
      "\n",
      "Warnings:\n",
      "[1] Standard Errors assume that the covariance matrix of the errors is correctly specified.\n"
     ]
    },
    {
     "data": {
      "image/png": "[encoded data removed]",
      "text/plain": [
       "<Figure size 432x288 with 1 Axes>"
      ]
     },
     "metadata": {
      "needs_background": "light"
     },
     "output_type": "display_data"
    }
   ],
   "source": [
    "#ORDINARY LEAST SQUARES\n",
    "\n",
    "import numpy as np\n",
    "import statsmodels.api as sm\n",
    "import matplotlib.pyplot as plt\n",
    "\n",
    "X = data_ceo.roe\n",
    "y = data_ceo.salary\n",
    "X, y = np.array(X), np.array(y)\n",
    "\n",
    "model = sm.OLS(y, X)\n",
    "results = model.fit()\n",
    "print(results.summary())\n",
    "\n",
    "\n",
    "plt.scatter(X, y)\n",
    "plt.plot(X, Y_pred, color='red')\n",
    "plt.show()"
   ]
  }
 ],
 "metadata": {
  "kernelspec": {
   "display_name": "Python 3",
   "language": "python",
   "name": "python3"
  },
  "language_info": {
   "codemirror_mode": {
    "name": "ipython",
    "version": 3
   },
   "file_extension": ".py",
   "mimetype": "text/x-python",
   "name": "python",
   "nbconvert_exporter": "python",
   "pygments_lexer": "ipython3",
   "version": "3.7.1"
  }
 },
 "nbformat": 4,
 "nbformat_minor": 2
}
